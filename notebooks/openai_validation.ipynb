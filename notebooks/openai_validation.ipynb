{
 "cells": [
  {
   "cell_type": "code",
   "execution_count": 2,
   "id": "a319f984",
   "metadata": {},
   "outputs": [
    {
     "name": "stdout",
     "output_type": "stream",
     "text": [
      "Hello! Did you know that one interesting fact about AI is that it can learn to play complex games like chess and Go at a superhuman level, often discovering strategies that human players have never thought of?\n"
     ]
    }
   ],
   "source": [
    "# simple_openai_test.py\n",
    "\"\"\"\n",
    "Simple OpenAI API test script.\n",
    "\n",
    "- Loads environment variables from .env\n",
    "- Retrieves OPENAI_API_KEY via python-dotenv\n",
    "- Makes a simple completion request\n",
    "\"\"\"\n",
    "\n",
    "import os\n",
    "from dotenv import load_dotenv\n",
    "from openai import OpenAI\n",
    "\n",
    "# ---------------- Configuration ----------------\n",
    "# load_dotenv()  # Load from .env into environment\n",
    "\n",
    "OPENAI_API_KEY = os.getenv(\"OPENAI_API_KEY\")\n",
    "if not OPENAI_API_KEY:\n",
    "    raise EnvironmentError(\"OPENAI_API_KEY not found in environment variables or .env file\")\n",
    "\n",
    "client = OpenAI(api_key=OPENAI_API_KEY)\n",
    "# ------------------------------------------------\n",
    "\n",
    "# ---------------- Simple Request ----------------\n",
    "response = client.chat.completions.create(\n",
    "    model=\"gpt-4.1-mini\",\n",
    "    messages=[\n",
    "        {\"role\": \"system\", \"content\": \"You are a helpful assistant.\"},\n",
    "        {\"role\": \"user\", \"content\": \"Say hello and tell me one interesting fact about AI.\"}\n",
    "    ]\n",
    ")\n",
    "\n",
    "print(response.choices[0].message.content)\n",
    "# ------------------------------------------------\n"
   ]
  },
  {
   "cell_type": "code",
   "execution_count": 4,
   "id": "de135fb7",
   "metadata": {},
   "outputs": [
    {
     "name": "stdout",
     "output_type": "stream",
     "text": [
      "Generating embedding for: 'Graph-based retrieval improves accuracy in RAG systems.'\n",
      "✅ Received embedding of length 1536\n",
      "First 10 dimensions: [-0.03626570105552673, 0.018214838579297066, 0.01302231103181839, 0.007679474074393511, -0.006466745864599943, -0.0168620478361845, -0.012653368525207043, -0.007344692945480347, -0.03350546211004257, 0.015577580779790878]\n"
     ]
    }
   ],
   "source": [
    "# simple_embedding_test.py\n",
    "\"\"\"\n",
    "Quick test for OpenAI text-embedding-3-small model.\n",
    "Loads API key from .env and prints embedding dimension and sample values.\n",
    "\"\"\"\n",
    "\n",
    "import os\n",
    "from dotenv import load_dotenv\n",
    "from openai import OpenAI\n",
    "\n",
    "# ---------- Configuration ----------\n",
    "# load_dotenv()  # Loads .env variables\n",
    "OPENAI_API_KEY = os.getenv(\"OPENAI_API_KEY\")\n",
    "\n",
    "if not OPENAI_API_KEY:\n",
    "    raise EnvironmentError(\"OPENAI_API_KEY not found in environment or .env\")\n",
    "\n",
    "client = OpenAI(api_key=OPENAI_API_KEY)\n",
    "# -----------------------------------\n",
    "\n",
    "# ---------- Embedding Request ----------\n",
    "text = \"Graph-based retrieval improves accuracy in RAG systems.\"\n",
    "print(f\"Generating embedding for: {text!r}\")\n",
    "\n",
    "response = client.embeddings.create(\n",
    "    model=\"text-embedding-3-small\",\n",
    "    input=text\n",
    ")\n",
    "\n",
    "embedding = response.data[0].embedding\n",
    "print(f\"✅ Received embedding of length {len(embedding)}\")\n",
    "print(f\"First 10 dimensions: {embedding[:10]}\")\n",
    "# ---------------------------------------\n"
   ]
  },
  {
   "cell_type": "code",
   "execution_count": null,
   "id": "0737a9da",
   "metadata": {},
   "outputs": [],
   "source": []
  }
 ],
 "metadata": {
  "kernelspec": {
   "display_name": ".venv",
   "language": "python",
   "name": "python3"
  },
  "language_info": {
   "codemirror_mode": {
    "name": "ipython",
    "version": 3
   },
   "file_extension": ".py",
   "mimetype": "text/x-python",
   "name": "python",
   "nbconvert_exporter": "python",
   "pygments_lexer": "ipython3",
   "version": "3.11.13"
  }
 },
 "nbformat": 4,
 "nbformat_minor": 5
}
